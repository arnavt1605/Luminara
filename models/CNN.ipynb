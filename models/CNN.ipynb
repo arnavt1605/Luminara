{
 "cells": [
  {
   "cell_type": "code",
   "execution_count": 7,
   "metadata": {
    "execution": {
     "iopub.execute_input": "2025-08-25T12:14:51.240340Z",
     "iopub.status.busy": "2025-08-25T12:14:51.239497Z",
     "iopub.status.idle": "2025-08-25T12:14:51.246050Z",
     "shell.execute_reply": "2025-08-25T12:14:51.245194Z",
     "shell.execute_reply.started": "2025-08-25T12:14:51.240305Z"
    },
    "trusted": true
   },
   "outputs": [],
   "source": [
    "import os,joblib,random\n",
    "import numpy as np\n",
    "import pandas as pd\n",
    "import torch\n",
    "import torch.nn as nn\n",
    "from torch.utils.data import Dataset, DataLoader\n",
    "\n",
    "from sklearn.model_selection import train_test_split\n",
    "from sklearn.preprocessing import StandardScaler\n",
    "from sklearn.metrics import (\n",
    "accuracy_score, precision_score, recall_score,\n",
    "f1_score, roc_auc_score, average_precision_score\n",
    ")\n",
    "\n",
    "device= torch.device(\"cuda\" if torch.cuda.is_available() else \"cpu\")"
   ]
  },
  {
   "cell_type": "code",
   "execution_count": 8,
   "metadata": {
    "execution": {
     "iopub.execute_input": "2025-08-25T12:14:52.425383Z",
     "iopub.status.busy": "2025-08-25T12:14:52.424986Z",
     "iopub.status.idle": "2025-08-25T12:14:52.429807Z",
     "shell.execute_reply": "2025-08-25T12:14:52.428917Z",
     "shell.execute_reply.started": "2025-08-25T12:14:52.425352Z"
    },
    "trusted": true
   },
   "outputs": [],
   "source": [
    "path= \"/kaggle/input/exotraincsv/exoTrain.csv\""
   ]
  },
  {
   "cell_type": "code",
   "execution_count": 9,
   "metadata": {
    "execution": {
     "iopub.execute_input": "2025-08-25T12:14:54.613137Z",
     "iopub.status.busy": "2025-08-25T12:14:54.612418Z",
     "iopub.status.idle": "2025-08-25T12:14:54.617756Z",
     "shell.execute_reply": "2025-08-25T12:14:54.616905Z",
     "shell.execute_reply.started": "2025-08-25T12:14:54.613112Z"
    },
    "trusted": true
   },
   "outputs": [],
   "source": [
    "class Exodata(Dataset):\n",
    "    def __init__(self,x,y):\n",
    "        self.x= x.astype(np.float32)\n",
    "        self.y= y.astype(np.float32)\n",
    "    def __len__(self):\n",
    "        return len(self.y)\n",
    "    def __getitem__(self, idx):\n",
    "        x= self.x[idx]\n",
    "        x = torch.from_numpy(x)[None, :]\n",
    "        y = torch.tensor(self.y[idx], dtype=torch.float32)\n",
    "        return x, y\n"
   ]
  },
  {
   "cell_type": "code",
   "execution_count": 10,
   "metadata": {
    "execution": {
     "iopub.execute_input": "2025-08-25T12:14:55.257389Z",
     "iopub.status.busy": "2025-08-25T12:14:55.256634Z",
     "iopub.status.idle": "2025-08-25T12:14:55.262908Z",
     "shell.execute_reply": "2025-08-25T12:14:55.262304Z",
     "shell.execute_reply.started": "2025-08-25T12:14:55.257363Z"
    },
    "trusted": true
   },
   "outputs": [],
   "source": [
    "class CNN(nn.Module):\n",
    "    def __init__(self):\n",
    "        super().__init__()\n",
    "        self.stack= nn.Sequential(\n",
    "            nn.Conv1d(1, 32, kernel_size=11, padding=5),\n",
    "            nn.BatchNorm1d(32),\n",
    "            nn.ReLU(),\n",
    "            nn.MaxPool1d(2),\n",
    "            \n",
    "            nn.Conv1d(32, 64, kernel_size=9, padding=4),\n",
    "            nn.BatchNorm1d(64),\n",
    "            nn.ReLU(),\n",
    "            nn.MaxPool1d(2),\n",
    "            \n",
    "            nn.Conv1d(64, 128, kernel_size=7, padding=3),\n",
    "            nn.BatchNorm1d(128),\n",
    "            nn.ReLU(),\n",
    "            nn.AdaptiveAvgPool1d(1)\n",
    "        )\n",
    "\n",
    "        self.classifier=  nn.Sequential(\n",
    "            nn.Flatten(),\n",
    "            nn.Dropout(0.4),\n",
    "            nn.Linear(128, 64),\n",
    "            nn.ReLU(),\n",
    "            nn.Dropout(0.3),\n",
    "            nn.Linear(64, 1)\n",
    "        )\n",
    "\n",
    "    def forward(self, x):\n",
    "        x=self.stack(x)\n",
    "        x= self.classifier(x).squeeze(1)\n",
    "        return x"
   ]
  },
  {
   "cell_type": "code",
   "execution_count": 11,
   "metadata": {
    "execution": {
     "iopub.execute_input": "2025-08-25T12:14:57.469178Z",
     "iopub.status.busy": "2025-08-25T12:14:57.468384Z",
     "iopub.status.idle": "2025-08-25T12:14:57.474260Z",
     "shell.execute_reply": "2025-08-25T12:14:57.473672Z",
     "shell.execute_reply.started": "2025-08-25T12:14:57.469144Z"
    },
    "trusted": true
   },
   "outputs": [],
   "source": [
    "class FocalLoss(nn.Module):\n",
    "    def __init__(self, alpha=1.0, gamma=2.0, reduction='mean'):\n",
    "        super().__init__()\n",
    "        self.alpha= alpha\n",
    "        self.gamma= gamma\n",
    "        self.reduction= reduction\n",
    "\n",
    "    def forward(self, logits, targets):\n",
    "        bce= nn.functional.binary_cross_entropy_with_logits(logits, targets, reduction=\"none\")\n",
    "        p= torch.sigmoid(logits)\n",
    "        pt=torch.where(targets == 1, p, 1-p)\n",
    "        loss= self.alpha*(1-pt)**self.gamma * bce\n",
    "\n",
    "        if self.reduction == \"mean\":\n",
    "            return loss.mean()\n",
    "        elif self.reduction == \"sum\":\n",
    "            return loss.sum()\n",
    "        return loss"
   ]
  },
  {
   "cell_type": "code",
   "execution_count": 12,
   "metadata": {
    "execution": {
     "iopub.execute_input": "2025-08-25T12:14:58.856562Z",
     "iopub.status.busy": "2025-08-25T12:14:58.856018Z",
     "iopub.status.idle": "2025-08-25T12:15:08.336797Z",
     "shell.execute_reply": "2025-08-25T12:15:08.335852Z",
     "shell.execute_reply.started": "2025-08-25T12:14:58.856541Z"
    },
    "trusted": true
   },
   "outputs": [],
   "source": [
    "BATCH_SIZE = 64\n",
    "EPOCHS     = 30\n",
    "LR         = 0.001\n",
    "PATIENCE   = 5\n",
    "USE_FOCAL  = False   \n",
    "\n",
    "df = pd.read_csv(path)\n",
    "y  = (df['LABEL'] == 1).astype(np.int32).values\n",
    "X  = df.drop(columns=['LABEL']).values\n",
    "\n",
    "\n",
    "X = np.nan_to_num(X, nan=np.nanmedian(X))\n",
    "med = np.median(X, axis=1, keepdims=True)\n",
    "Xc  = X - med\n",
    "mad = np.median(np.abs(Xc), axis=1, keepdims=True); mad[mad==0]=1.0\n",
    "Xr  = Xc / mad\n",
    "\n",
    "X_train, X_temp, y_train, y_temp = train_test_split(Xr, y, test_size=0.2, random_state=42, stratify=y)\n",
    "X_val,   X_test, y_val,   y_test = train_test_split(X_temp, y_temp, test_size=0.5, random_state=42, stratify=y_temp)\n",
    "\n",
    "\n",
    "scaler = StandardScaler()\n",
    "X_train = scaler.fit_transform(X_train)\n",
    "X_val   = scaler.transform(X_val)\n",
    "X_test  = scaler.transform(X_test)\n",
    "\n",
    "joblib.dump(scaler, \"scaler.pkl\")\n",
    "\n",
    "train_loader = DataLoader(Exodata(X_train, y_train), batch_size=BATCH_SIZE, shuffle=True)\n",
    "val_loader   = DataLoader(Exodata(X_val,   y_val),   batch_size=BATCH_SIZE, shuffle=False)\n",
    "test_loader  = DataLoader(Exodata(X_test,  y_test),  batch_size=BATCH_SIZE, shuffle=False)"
   ]
  },
  {
   "cell_type": "code",
   "execution_count": 13,
   "metadata": {
    "execution": {
     "iopub.execute_input": "2025-08-25T12:15:08.338388Z",
     "iopub.status.busy": "2025-08-25T12:15:08.338151Z",
     "iopub.status.idle": "2025-08-25T12:15:45.397994Z",
     "shell.execute_reply": "2025-08-25T12:15:45.397131Z",
     "shell.execute_reply.started": "2025-08-25T12:15:08.338372Z"
    },
    "trusted": true
   },
   "outputs": [
    {
     "name": "stdout",
     "output_type": "stream",
     "text": [
      "Epoch 01 | loss 0.0102 | val PR 0.9965 | ROC 0.6693\n",
      "> saved best model\n",
      "Epoch 02 | loss 0.0089 | val PR 0.9968 | ROC 0.6522\n",
      "> saved best model\n",
      "Epoch 03 | loss 0.0088 | val PR 0.9988 | ROC 0.8340\n",
      "> saved best model\n",
      "Epoch 04 | loss 0.0087 | val PR 0.9976 | ROC 0.7003\n",
      "Epoch 05 | loss 0.0084 | val PR 0.9975 | ROC 0.6957\n",
      "Epoch 06 | loss 0.0076 | val PR 0.9989 | ROC 0.8432\n",
      "> saved best model\n",
      "Epoch 07 | loss 0.0074 | val PR 0.9990 | ROC 0.8564\n",
      "> saved best model\n",
      "Epoch 08 | loss 0.0079 | val PR 0.9994 | ROC 0.9104\n",
      "> saved best model\n",
      "Epoch 09 | loss 0.0069 | val PR 0.9993 | ROC 0.8999\n",
      "Epoch 10 | loss 0.0073 | val PR 0.9998 | ROC 0.9611\n",
      "> saved best model\n",
      "Epoch 11 | loss 0.0071 | val PR 0.9990 | ROC 0.8603\n",
      "Epoch 12 | loss 0.0065 | val PR 0.9995 | ROC 0.9216\n",
      "Epoch 13 | loss 0.0059 | val PR 0.9985 | ROC 0.8024\n",
      "Epoch 14 | loss 0.0056 | val PR 0.9997 | ROC 0.9559\n",
      "Epoch 15 | loss 0.0056 | val PR 0.9999 | ROC 0.9862\n",
      "> saved best model\n",
      "Epoch 16 | loss 0.0050 | val PR 0.9992 | ROC 0.8841\n",
      "Epoch 17 | loss 0.0049 | val PR 0.9999 | ROC 0.9901\n",
      "> saved best model\n",
      "Epoch 18 | loss 0.0048 | val PR 0.9999 | ROC 0.9908\n",
      "> saved best model\n",
      "Epoch 19 | loss 0.0039 | val PR 0.9998 | ROC 0.9605\n",
      "Epoch 20 | loss 0.0039 | val PR 0.9996 | ROC 0.9361\n",
      "Epoch 21 | loss 0.0041 | val PR 1.0000 | ROC 0.9954\n",
      "> saved best model\n",
      "Epoch 22 | loss 0.0036 | val PR 0.9999 | ROC 0.9888\n",
      "Epoch 23 | loss 0.0034 | val PR 1.0000 | ROC 0.9921\n",
      "Epoch 24 | loss 0.0037 | val PR 1.0000 | ROC 0.9947\n",
      "Epoch 25 | loss 0.0033 | val PR 0.9999 | ROC 0.9888\n",
      "Epoch 26 | loss 0.0034 | val PR 0.9999 | ROC 0.9855\n",
      "Early stopping.\n"
     ]
    }
   ],
   "source": [
    "model = CNN().to(device)\n",
    "\n",
    "# pos_weight for imbalance\n",
    "pos = y_train.sum(); neg = len(y_train) - pos\n",
    "pos_weight = torch.tensor([neg / (pos + 1e-12)], dtype=torch.float32, device=device)\n",
    "\n",
    "bce_loss = nn.BCEWithLogitsLoss(pos_weight=pos_weight)\n",
    "criterion = FocalLoss() if USE_FOCAL else bce_loss\n",
    "\n",
    "optimizer = torch.optim.Adam(model.parameters(), lr=LR)\n",
    "scheduler = torch.optim.lr_scheduler.ReduceLROnPlateau(optimizer, mode='max', factor=0.5, patience=2)\n",
    "\n",
    "def evaluate(model, loader):\n",
    "    model.eval()\n",
    "    all_prob, all_y = [], []\n",
    "    with torch.no_grad():\n",
    "        for xb, yb in loader:\n",
    "            xb = xb.to(device); yb = yb.to(device)\n",
    "            logits = model(xb)\n",
    "            prob   = torch.sigmoid(logits).detach().cpu().numpy()\n",
    "            all_prob.append(prob); all_y.append(yb.detach().cpu().numpy())\n",
    "    prob = np.concatenate(all_prob).ravel()\n",
    "    ytrue= np.concatenate(all_y).ravel().astype(int)\n",
    "    yhat = (prob >= 0.5).astype(int)\n",
    "    return {\n",
    "        \"acc\": accuracy_score(ytrue, yhat),\n",
    "        \"prec\": precision_score(ytrue, yhat, zero_division=0),\n",
    "        \"rec\": recall_score(ytrue, yhat, zero_division=0),\n",
    "        \"f1\": f1_score(ytrue, yhat, zero_division=0),\n",
    "        \"roc\": roc_auc_score(ytrue, prob),\n",
    "        \"pr\":  average_precision_score(ytrue, prob),\n",
    "        \"y\": ytrue, \"p\": prob\n",
    "    }\n",
    "\n",
    "best_pr = -np.inf\n",
    "best_state = None\n",
    "pat = 0\n",
    "\n",
    "for epoch in range(1, EPOCHS+1):\n",
    "    model.train()\n",
    "    running = 0.0\n",
    "    for xb, yb in train_loader:\n",
    "        xb = xb.to(device); yb = yb.to(device)\n",
    "        optimizer.zero_grad()\n",
    "        logits = model(xb)\n",
    "        loss = criterion(logits, yb)\n",
    "        loss.backward()\n",
    "        nn.utils.clip_grad_norm_(model.parameters(), 1.0)\n",
    "        optimizer.step()\n",
    "        running += loss.item() * xb.size(0)\n",
    "\n",
    "    val_metrics = evaluate(model, val_loader)\n",
    "    scheduler.step(val_metrics[\"pr\"])\n",
    "    print(f\"Epoch {epoch:02d} | loss {running/len(train_loader.dataset):.4f} | \"\n",
    "          f\"val PR {val_metrics['pr']:.4f} | ROC {val_metrics['roc']:.4f}\")\n",
    "\n",
    "    if val_metrics[\"pr\"] > best_pr + 1e-6:\n",
    "        best_pr = val_metrics[\"pr\"]; pat = 0\n",
    "        best_state = {\"model\": model.state_dict()}\n",
    "        torch.save(best_state, \"model.pth\")\n",
    "        print(\"> saved best model\")\n",
    "    else:\n",
    "        pat += 1\n",
    "        if pat >= PATIENCE:\n",
    "            print(\"Early stopping.\"); break\n",
    "\n",
    "if best_state is not None:\n",
    "    model.load_state_dict(best_state[\"model\"])\n",
    "else:\n",
    "    torch.save({\"model\": model.state_dict()}, \"model.pth\")"
   ]
  },
  {
   "cell_type": "code",
   "execution_count": 14,
   "metadata": {
    "execution": {
     "iopub.execute_input": "2025-08-25T12:15:50.364588Z",
     "iopub.status.busy": "2025-08-25T12:15:50.363731Z",
     "iopub.status.idle": "2025-08-25T12:15:50.769599Z",
     "shell.execute_reply": "2025-08-25T12:15:50.768889Z",
     "shell.execute_reply.started": "2025-08-25T12:15:50.364562Z"
    },
    "trusted": true
   },
   "outputs": [
    {
     "name": "stdout",
     "output_type": "stream",
     "text": [
      "Calibrated temperature: 1.0056\n"
     ]
    }
   ],
   "source": [
    "class ModelWithTemperature(nn.Module):\n",
    "    def __init__(self, model):\n",
    "        super().__init__()\n",
    "        self.model = model\n",
    "        self.temperature = nn.Parameter(torch.ones(1))\n",
    "    def forward(self, x):\n",
    "        return self.model(x) / self.temperature\n",
    "    def set_temperature(self, loader):\n",
    "        self.to(device)\n",
    "        crit = nn.BCEWithLogitsLoss()\n",
    "        logits_list, labels_list = [], []\n",
    "        self.eval()\n",
    "        with torch.no_grad():\n",
    "            for xb, yb in loader:\n",
    "                xb = xb.to(device)\n",
    "                logits_list.append(self.model(xb).detach().cpu())\n",
    "                labels_list.append(yb)\n",
    "        logits = torch.cat(logits_list).squeeze()\n",
    "        labels = torch.cat(labels_list).to(torch.float32).squeeze()\n",
    "        T = torch.ones(1, requires_grad=True, device=device)\n",
    "        opt = torch.optim.LBFGS([T], lr=0.01, max_iter=50)\n",
    "        def closure():\n",
    "            opt.zero_grad()\n",
    "            loss = crit(logits.to(device)/T, labels.to(device))\n",
    "            loss.backward();\n",
    "            return loss.item()\n",
    "        opt.step(closure)\n",
    "        self.temperature.data = T.data\n",
    "        return float(self.temperature.item())\n",
    "\n",
    "model_ts = ModelWithTemperature(model)\n",
    "T = model_ts.set_temperature(val_loader)\n",
    "np.save(\"temperature.npy\", np.array([float(T)]))\n",
    "print(f\"Calibrated temperature: {float(T):.4f}\")"
   ]
  },
  {
   "cell_type": "code",
   "execution_count": 15,
   "metadata": {
    "execution": {
     "iopub.execute_input": "2025-08-25T12:16:02.886141Z",
     "iopub.status.busy": "2025-08-25T12:16:02.885478Z",
     "iopub.status.idle": "2025-08-25T12:16:02.975022Z",
     "shell.execute_reply": "2025-08-25T12:16:02.974198Z",
     "shell.execute_reply.started": "2025-08-25T12:16:02.886115Z"
    },
    "trusted": true
   },
   "outputs": [
    {
     "name": "stdout",
     "output_type": "stream",
     "text": [
      "Test (calibrated) metrics:\n",
      "{'acc': 0.8998, 'prec': 1.0, 'rec': 0.899, 'f1': 0.9468, 'roc': 0.9856, 'pr': 0.9999}\n"
     ]
    }
   ],
   "source": [
    "@torch.no_grad()\n",
    "def predict_with_temp(model_with_temp, loader):\n",
    "    model_with_temp.eval()\n",
    "    probs, ys = [], []\n",
    "    for xb, yb in loader:\n",
    "        xb = xb.to(device)\n",
    "        logits = model_with_temp(xb)\n",
    "        probs.append(torch.sigmoid(logits).cpu().numpy())\n",
    "        ys.append(yb.numpy())\n",
    "    return np.concatenate(ys).ravel().astype(int), np.concatenate(probs).ravel()\n",
    "\n",
    "y_true, y_prob = predict_with_temp(model_ts, test_loader)\n",
    "\n",
    "def print_metrics(y_true, y_prob, thr=0.5):\n",
    "    y_hat = (y_prob >= thr).astype(int)\n",
    "    m = dict(\n",
    "        acc = accuracy_score(y_true, y_hat),\n",
    "        prec= precision_score(y_true, y_hat, zero_division=0),\n",
    "        rec = recall_score(y_true, y_hat, zero_division=0),\n",
    "        f1  = f1_score(y_true, y_hat, zero_division=0),\n",
    "        roc = roc_auc_score(y_true, y_prob),\n",
    "        pr  = average_precision_score(y_true, y_prob),\n",
    "    )\n",
    "    print({k: round(v,4) for k,v in m.items()}); return m\n",
    "\n",
    "print(\"Test (calibrated) metrics:\")\n",
    "_ = print_metrics(y_true, y_prob, 0.5)\n"
   ]
  },
  {
   "cell_type": "code",
   "execution_count": 16,
   "metadata": {
    "execution": {
     "iopub.execute_input": "2025-08-25T12:16:04.717387Z",
     "iopub.status.busy": "2025-08-25T12:16:04.717098Z",
     "iopub.status.idle": "2025-08-25T12:16:04.979896Z",
     "shell.execute_reply": "2025-08-25T12:16:04.979210Z",
     "shell.execute_reply.started": "2025-08-25T12:16:04.717368Z"
    },
    "trusted": true
   },
   "outputs": [
    {
     "name": "stdout",
     "output_type": "stream",
     "text": [
      "Saved saliency_examples.npy\n"
     ]
    }
   ],
   "source": [
    "def saliency_map(model_core, x_np):\n",
    "    model_core.eval()\n",
    "    x = torch.tensor(x_np.astype(np.float32)).unsqueeze(0).unsqueeze(0).to(device)\n",
    "    x.requires_grad_()\n",
    "    logits = model_core(x)\n",
    "    logits.backward() # this is new\n",
    "    sal = x.grad.detach().cpu().squeeze().numpy()\n",
    "    return np.abs(sal)\n",
    "\n",
    "K = min(3, len(X_test))\n",
    "sals = [saliency_map(model_ts.model, X_test[i]) for i in range(K)]\n",
    "np.save(\"saliency_examples.npy\", np.stack(sals, axis=0))\n",
    "print(\"Saved saliency_examples.npy\")\n"
   ]
  },
  {
   "cell_type": "code",
   "execution_count": null,
   "metadata": {
    "execution": {
     "iopub.execute_input": "2025-08-25T12:16:56.069441Z",
     "iopub.status.busy": "2025-08-25T12:16:56.068742Z",
     "iopub.status.idle": "2025-08-25T12:16:56.076829Z",
     "shell.execute_reply": "2025-08-25T12:16:56.076069Z",
     "shell.execute_reply.started": "2025-08-25T12:16:56.069416Z"
    },
    "trusted": true
   },
   "outputs": [],
   "source": [
    "import matplotlib.pyplot as plt\n",
    "from sklearn.metrics import precision_recall_curve, roc_curve, average_precision_score, roc_auc_score\n",
    "import numpy as np\n",
    "\n",
    "def plot_pr_roc_curves(y_true, y_prob, figsize=(14, 6)):\n",
    "    \n",
    "    plt.style.use('seaborn-v0_8-whitegrid')\n",
    "    fig, (ax1, ax2) = plt.subplots(1, 2, figsize=figsize)\n",
    "\n",
    "    precision, recall, _ = precision_recall_curve(y_true, y_prob)\n",
    "    pr_auc = average_precision_score(y_true, y_prob)\n",
    "\n",
    "    ax1.plot(recall, precision, color='dodgerblue', lw=2, label=f'PR Curve (AUC = {pr_auc:.4f})')\n",
    "\n",
    "    no_skill = len(y_true[y_true==1]) / len(y_true)\n",
    "    ax1.axhline(y=no_skill, color='gray', linestyle='--', label='No-Skill Classifier')\n",
    "    ax1.set_xlabel('Recall (Sensitivity)')\n",
    "    ax1.set_ylabel('Precision')\n",
    "    ax1.set_title('Precision-Recall Curve')\n",
    "    ax1.legend(loc='lower left')\n",
    "    ax1.set_xlim([0.0, 1.0])\n",
    "    ax1.set_ylim([0.0, 1.05])\n",
    "\n",
    "   \n",
    "    fpr, tpr, _ = roc_curve(y_true, y_prob)\n",
    "    roc_auc = roc_auc_score(y_true, y_prob)\n",
    "\n",
    "    ax2.plot(fpr, tpr, color='darkorange', lw=2, label=f'ROC Curve (AUC = {roc_auc:.4f})')\n",
    "   \n",
    "    ax2.plot([0, 1], [0, 1], color='navy', lw=2, linestyle='--', label='Random Chance')\n",
    "    ax2.set_xlabel('False Positive Rate')\n",
    "    ax2.set_ylabel('True Positive Rate (Recall)')\n",
    "    ax2.set_title('Receiver Operating Characteristic (ROC) Curve')\n",
    "    ax2.legend(loc='lower right')\n",
    "    ax2.set_xlim([0.0, 1.0])\n",
    "    ax2.set_ylim([0.0, 1.05])\n",
    "\n",
    "    plt.tight_layout()\n",
    "    plt.show()"
   ]
  },
  {
   "cell_type": "code",
   "execution_count": 18,
   "metadata": {
    "execution": {
     "iopub.execute_input": "2025-08-25T12:16:59.928129Z",
     "iopub.status.busy": "2025-08-25T12:16:59.927348Z",
     "iopub.status.idle": "2025-08-25T12:17:00.474746Z",
     "shell.execute_reply": "2025-08-25T12:17:00.474048Z",
     "shell.execute_reply.started": "2025-08-25T12:16:59.928104Z"
    },
    "trusted": true
   },
   "outputs": [
    {
     "data": {
      "image/png": "[encoded data removed]",
      "text/plain": [
       "<Figure size 1400x600 with 2 Axes>"
      ]
     },
     "metadata": {},
     "output_type": "display_data"
    }
   ],
   "source": [
    "plot_pr_roc_curves(y_true, y_prob)"
   ]
  },
  {
   "cell_type": "code",
   "execution_count": null,
   "metadata": {
    "trusted": true
   },
   "outputs": [],
   "source": []
  }
 ],
 "metadata": {
  "kaggle": {
   "accelerator": "nvidiaTeslaT4",
   "dataSources": [
    {
     "datasetId": 1794588,
     "sourceId": 2927490,
     "sourceType": "datasetVersion"
    }
   ],
   "dockerImageVersionId": 31090,
   "isGpuEnabled": true,
   "isInternetEnabled": true,
   "language": "python",
   "sourceType": "notebook"
  },
  "kernelspec": {
   "display_name": "Python 3",
   "language": "python",
   "name": "python3"
  },
  "language_info": {
   "codemirror_mode": {
    "name": "ipython",
    "version": 3
   },
   "file_extension": ".py",
   "mimetype": "text/x-python",
   "name": "python",
   "nbconvert_exporter": "python",
   "pygments_lexer": "ipython3",
   "version": "3.11.13"
  }
 },
 "nbformat": 4,
 "nbformat_minor": 4
}
